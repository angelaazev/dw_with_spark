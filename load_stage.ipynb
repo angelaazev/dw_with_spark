{
 "cells": [
  {
   "cell_type": "code",
   "execution_count": 18,
   "metadata": {},
   "outputs": [],
   "source": [
    "from pyspark.sql import SparkSession\n",
    "from pyspark.sql import Row\n",
    "from pyspark.sql.window import Window\n",
    "from pyspark.sql.functions import * \n",
    "import json\n",
    "import pyspark\n",
    "import psycopg2"
   ]
  },
  {
   "cell_type": "code",
   "execution_count": 19,
   "metadata": {},
   "outputs": [],
   "source": [
    "spark = SparkSession \\\n",
    "    .builder \\\n",
    "    .appName(\"Python Spark SQL basic example\") \\\n",
    "    .config(\"spark.jars\", \"/opt/spark/jars/postgresql-42.2.6.jar\") \\\n",
    "    .getOrCreate()"
   ]
  },
  {
   "cell_type": "code",
   "execution_count": 20,
   "metadata": {},
   "outputs": [],
   "source": [
    "conn = psycopg2.connect(database = \"origem_pizzaria\", \n",
    "                    user = \"postgres\", \n",
    "                    host= 'localhost',\n",
    "                    password = \"postgres\",\n",
    "                    port = 5432)\n",
    "cur = conn.cursor()"
   ]
  },
  {
   "cell_type": "code",
   "execution_count": 21,
   "metadata": {},
   "outputs": [],
   "source": [
    "cur.execute(\"\"\"select \n",
    "            pz.pizza_id, \n",
    "            pt.name, \n",
    "            pt.category, \n",
    "            pz.size, \n",
    "            pz.price, \n",
    "            pt.ingredients\n",
    "from pizzas pz\n",
    "join pizza_types pt on pz.pizza_type_id = pt.pizza_type_id \n",
    "            \"\"\")\n",
    "stg_pizzas = cur.fetchall()"
   ]
  },
  {
   "cell_type": "code",
   "execution_count": 22,
   "metadata": {},
   "outputs": [],
   "source": [
    "cur.execute(\"\"\"select pz.pizza_id, \n",
    "os.order_id, \n",
    "os.date, \n",
    "os.time, \n",
    "od.quantity, \n",
    "(price * quantity) as price_total\n",
    "from orders_details od\n",
    "join orders os on od.order_id = os.order_id\n",
    "join pizzas pz on pz.pizza_id = od.pizza_id\n",
    "join pizza_types pt on pt.pizza_type_id = pz.pizza_type_id\n",
    "\"\"\")\n",
    "stg_fato_orders = cur.fetchall()"
   ]
  },
  {
   "cell_type": "code",
   "execution_count": 23,
   "metadata": {},
   "outputs": [],
   "source": [
    "conn.close()"
   ]
  },
  {
   "cell_type": "code",
   "execution_count": 24,
   "metadata": {},
   "outputs": [],
   "source": [
    "conn = psycopg2.connect(database = \"stage_pizzaria\", \n",
    "                    user = \"postgres\", \n",
    "                    host= 'localhost',\n",
    "                    password = \"postgres\",\n",
    "                    port = 5432)\n",
    "cur = conn.cursor()"
   ]
  },
  {
   "cell_type": "code",
   "execution_count": 25,
   "metadata": {},
   "outputs": [],
   "source": [
    "cur.execute(\"\"\"CREATE TABLE IF NOT EXISTS STG_PIZZAS (\n",
    "    pizza_id INT,\n",
    "    pizza_name varchar,\n",
    "    category varchar,\n",
    "    size varchar(1),\n",
    "    price NUMERIC(10, 4),\n",
    "    ingredients varchar\n",
    ")\n",
    "\"\"\")"
   ]
  },
  {
   "cell_type": "code",
   "execution_count": 26,
   "metadata": {},
   "outputs": [],
   "source": [
    "cur.execute(\"\"\"CREATE TABLE IF NOT EXISTS STG_FATO_ORDERS (\n",
    "    pizza_id INT,\n",
    "    order_id INT,\n",
    "    date DATE,\n",
    "    time TIME,\n",
    "    quantity INT,\n",
    "    price NUMERIC(10, 4)\n",
    ")\n",
    "\"\"\")"
   ]
  },
  {
   "cell_type": "code",
   "execution_count": 27,
   "metadata": {},
   "outputs": [],
   "source": [
    "conn.close()"
   ]
  },
  {
   "cell_type": "code",
   "execution_count": 28,
   "metadata": {},
   "outputs": [],
   "source": [
    "window_spec  = Window.orderBy(\"pd_id\")\n",
    "EOW_DATE = \"9999-12-31\"\n",
    "DATE_FORMAT = \"yyyy-MM-dd\"\n",
    "\n",
    "columns = ['pizza_id', 'name', 'category', 'size', 'price', 'ingredients']\n",
    "stage_pizzas_df = spark.createDataFrame(stg_pizzas, columns).selectExpr('pizza_id', 'name', 'category', 'size', 'cast(price as decimal(10,2))', 'ingredients')\n",
    "                # .withColumn(\"sk_pk_id\",row_number().over(window_spec))\\\n",
    "                # .withColumn(\"effective_date\",date_format(current_date(), DATE_FORMAT))\\\n",
    "                # .withColumn(\"expiration_date\",date_format(lit(EOW_DATE), DATE_FORMAT))\\\n",
    "                # .withColumn(\"current_flag\", lit(True))\n",
    "                \n",
    "# dim_pizzas_details_df.show()"
   ]
  },
  {
   "cell_type": "code",
   "execution_count": 29,
   "metadata": {},
   "outputs": [],
   "source": [
    "# Convert 'time' column to string format\n",
    "stg_fato_orders = [(row[0], row[1], row[2], row[3].strftime('%H:%M:%S'), row[4], row[5]) for row in stg_fato_orders]\n",
    "\n",
    "# Define column names\n",
    "columns = ['pizza_id', 'order_id', 'date', 'time', 'quantity', 'price']\n",
    "\n",
    "# Create DataFrame\n",
    "stg_fato_orders_df = spark.createDataFrame(stg_fato_orders, columns)"
   ]
  },
  {
   "cell_type": "code",
   "execution_count": 30,
   "metadata": {},
   "outputs": [],
   "source": [
    "columns = ['pizza_id', 'order_id', 'date', 'time', 'quantity', 'price']\n",
    "stg_fato_orders_df = spark.createDataFrame(stg_fato_orders, columns).selectExpr('pizza_id', 'order_id', 'cast(date as string)', 'cast(time as string)', 'quantity', 'cast(price as decimal(10,2))')"
   ]
  },
  {
   "cell_type": "code",
   "execution_count": 31,
   "metadata": {},
   "outputs": [
    {
     "name": "stderr",
     "output_type": "stream",
     "text": [
      "                                                                                \r"
     ]
    }
   ],
   "source": [
    "stg_fato_orders_df.write.format('jdbc').options(\n",
    "  url='jdbc:postgresql://localhost:5432/stage_pizzaria',\n",
    "  driver='org.postgresql.Driver',\n",
    "  dbtable='STG_FATO_ORDERS',\n",
    "  user='postgres',\n",
    "  password='postgres').mode('overwrite').save()"
   ]
  },
  {
   "cell_type": "code",
   "execution_count": 32,
   "metadata": {},
   "outputs": [
    {
     "name": "stderr",
     "output_type": "stream",
     "text": [
      "                                                                                \r"
     ]
    }
   ],
   "source": [
    "stage_pizzas_df.write.format('jdbc').options(\n",
    "  url='jdbc:postgresql://localhost:5432/stage_pizzaria',\n",
    "  driver='org.postgresql.Driver',\n",
    "  dbtable='STG_PIZZAS',\n",
    "  user='postgres',\n",
    "  password='postgres').mode('overwrite').save()"
   ]
  },
  {
   "cell_type": "code",
   "execution_count": 33,
   "metadata": {},
   "outputs": [],
   "source": [
    "spark.stop()"
   ]
  }
 ],
 "metadata": {
  "kernelspec": {
   "display_name": "venv",
   "language": "python",
   "name": "python3"
  },
  "language_info": {
   "codemirror_mode": {
    "name": "ipython",
    "version": 3
   },
   "file_extension": ".py",
   "mimetype": "text/x-python",
   "name": "python",
   "nbconvert_exporter": "python",
   "pygments_lexer": "ipython3",
   "version": "3.10.9"
  }
 },
 "nbformat": 4,
 "nbformat_minor": 2
}
